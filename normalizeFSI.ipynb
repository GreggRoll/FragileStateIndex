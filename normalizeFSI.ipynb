{
 "cells": [
  {
   "cell_type": "code",
   "execution_count": 2,
   "id": "3524aa49-b604-48af-bb07-2629138862dc",
   "metadata": {
    "tags": []
   },
   "outputs": [],
   "source": [
    "import pandas as pd\n",
    "\"\"\"\n",
    "Right now we are downloading data from \n",
    "https://fragilestatesindex.org/\n",
    "Then processing it for move up to red\n",
    "We need to automate this process for use in our new green to red pipeline(WIP)\n",
    "On a monthly basis we need to do a data pull and get any new data\n",
    "If we put it in a dash app we can use POSIT CONNECT to keep the script persisting\n",
    "\"\"\"\n",
    "df = pd.read_excel(\"Rankings.xlsx\")\n",
    "\n",
    "cols = []\n",
    "for col in df.columns:\n",
    "    if \"Unnamed\" in col:\n",
    "        cols.append(df[col].iloc[0])\n",
    "    else:\n",
    "        cols.append(col)\n",
    "        \n",
    "df.columns = cols\n",
    "df = df[1:]\n",
    "\n",
    "df = df[[\"Country\", \"Total\"]]\n",
    "df.columns = [\"Country\", \"FSI Total\"]\n",
    "\n",
    "df[\"FSI Total Normalized\"] = df[\"FSI Total\"].apply(lambda x: (x-min(df[\"FSI Total\"]))/(max(df[\"FSI Total\"])-min(df[\"FSI Total\"])))\n",
    "df[\"FSI Total Normalized x4\"] = df[\"FSI Total Normalized\"]*4"
   ]
  },
  {
   "cell_type": "code",
   "execution_count": 3,
   "id": "4893cbd0-a99f-4b09-836b-b3621fcfbef7",
   "metadata": {
    "scrolled": true,
    "tags": []
   },
   "outputs": [
    {
     "data": {
      "text/html": [
       "<div>\n",
       "<style scoped>\n",
       "    .dataframe tbody tr th:only-of-type {\n",
       "        vertical-align: middle;\n",
       "    }\n",
       "\n",
       "    .dataframe tbody tr th {\n",
       "        vertical-align: top;\n",
       "    }\n",
       "\n",
       "    .dataframe thead th {\n",
       "        text-align: right;\n",
       "    }\n",
       "</style>\n",
       "<table border=\"1\" class=\"dataframe\">\n",
       "  <thead>\n",
       "    <tr style=\"text-align: right;\">\n",
       "      <th></th>\n",
       "      <th>Country</th>\n",
       "      <th>FSI Total</th>\n",
       "      <th>FSI Total Normalized</th>\n",
       "      <th>FSI Total Normalized x4</th>\n",
       "    </tr>\n",
       "  </thead>\n",
       "  <tbody>\n",
       "    <tr>\n",
       "      <th>1</th>\n",
       "      <td>Somalia</td>\n",
       "      <td>111.3</td>\n",
       "      <td>1.000000</td>\n",
       "      <td>4.000000</td>\n",
       "    </tr>\n",
       "    <tr>\n",
       "      <th>2</th>\n",
       "      <td>Sudan</td>\n",
       "      <td>109.3</td>\n",
       "      <td>0.979716</td>\n",
       "      <td>3.918864</td>\n",
       "    </tr>\n",
       "    <tr>\n",
       "      <th>3</th>\n",
       "      <td>South Sudan</td>\n",
       "      <td>109.0</td>\n",
       "      <td>0.976673</td>\n",
       "      <td>3.906694</td>\n",
       "    </tr>\n",
       "    <tr>\n",
       "      <th>4</th>\n",
       "      <td>Syria</td>\n",
       "      <td>108.1</td>\n",
       "      <td>0.967546</td>\n",
       "      <td>3.870183</td>\n",
       "    </tr>\n",
       "    <tr>\n",
       "      <th>5</th>\n",
       "      <td>Congo Democratic Republic</td>\n",
       "      <td>106.7</td>\n",
       "      <td>0.953347</td>\n",
       "      <td>3.813387</td>\n",
       "    </tr>\n",
       "    <tr>\n",
       "      <th>...</th>\n",
       "      <td>...</td>\n",
       "      <td>...</td>\n",
       "      <td>...</td>\n",
       "      <td>...</td>\n",
       "    </tr>\n",
       "    <tr>\n",
       "      <th>175</th>\n",
       "      <td>Denmark</td>\n",
       "      <td>15.9</td>\n",
       "      <td>0.032454</td>\n",
       "      <td>0.129817</td>\n",
       "    </tr>\n",
       "    <tr>\n",
       "      <th>176</th>\n",
       "      <td>New Zealand</td>\n",
       "      <td>15.9</td>\n",
       "      <td>0.032454</td>\n",
       "      <td>0.129817</td>\n",
       "    </tr>\n",
       "    <tr>\n",
       "      <th>177</th>\n",
       "      <td>Iceland</td>\n",
       "      <td>15.2</td>\n",
       "      <td>0.025355</td>\n",
       "      <td>0.101420</td>\n",
       "    </tr>\n",
       "    <tr>\n",
       "      <th>178</th>\n",
       "      <td>Finland</td>\n",
       "      <td>14.3</td>\n",
       "      <td>0.016227</td>\n",
       "      <td>0.064909</td>\n",
       "    </tr>\n",
       "    <tr>\n",
       "      <th>179</th>\n",
       "      <td>Norway</td>\n",
       "      <td>12.7</td>\n",
       "      <td>0.000000</td>\n",
       "      <td>0.000000</td>\n",
       "    </tr>\n",
       "  </tbody>\n",
       "</table>\n",
       "<p>179 rows × 4 columns</p>\n",
       "</div>"
      ],
      "text/plain": [
       "                       Country  FSI Total  FSI Total Normalized  \\\n",
       "1                      Somalia      111.3              1.000000   \n",
       "2                        Sudan      109.3              0.979716   \n",
       "3                  South Sudan      109.0              0.976673   \n",
       "4                        Syria      108.1              0.967546   \n",
       "5    Congo Democratic Republic      106.7              0.953347   \n",
       "..                         ...        ...                   ...   \n",
       "175                    Denmark       15.9              0.032454   \n",
       "176                New Zealand       15.9              0.032454   \n",
       "177                    Iceland       15.2              0.025355   \n",
       "178                    Finland       14.3              0.016227   \n",
       "179                     Norway       12.7              0.000000   \n",
       "\n",
       "     FSI Total Normalized x4  \n",
       "1                   4.000000  \n",
       "2                   3.918864  \n",
       "3                   3.906694  \n",
       "4                   3.870183  \n",
       "5                   3.813387  \n",
       "..                       ...  \n",
       "175                 0.129817  \n",
       "176                 0.129817  \n",
       "177                 0.101420  \n",
       "178                 0.064909  \n",
       "179                 0.000000  \n",
       "\n",
       "[179 rows x 4 columns]"
      ]
     },
     "execution_count": 3,
     "metadata": {},
     "output_type": "execute_result"
    }
   ],
   "source": [
    "df"
   ]
  },
  {
   "cell_type": "code",
   "execution_count": 4,
   "id": "e86f02f9-2c58-4f06-b4a5-e6e4bdcaec3b",
   "metadata": {
    "tags": []
   },
   "outputs": [],
   "source": [
    "df.to_excel(\"FSI_output.xlsx\")"
   ]
  },
  {
   "cell_type": "code",
   "execution_count": 5,
   "id": "58e4743f-94f2-4ce0-b69b-7be0e3e1946d",
   "metadata": {},
   "outputs": [],
   "source": [
    "import dash\n",
    "from dash import Dash, dcc, html\n",
    "import matplotlib.pyplot as plt\n",
    "import plotly.express as px"
   ]
  },
  {
   "cell_type": "code",
   "execution_count": 6,
   "id": "5cbf1b13-a161-4772-98bb-3864d52c237b",
   "metadata": {},
   "outputs": [
    {
     "name": "stdout",
     "output_type": "stream",
     "text": [
      "Column names ['Country', 'FSI Total', 'FSI Total Normalized', 'FSI Total Normalized x4']\n"
     ]
    }
   ],
   "source": [
    "column_names = df.columns\n",
    "print(\"Column names\", column_names.tolist())"
   ]
  },
  {
   "cell_type": "code",
   "execution_count": 7,
   "id": "feb95a62-7af0-4666-bce8-3a0cd5673d42",
   "metadata": {},
   "outputs": [],
   "source": [
    "fig = px.bar(\n",
    "    df,\n",
    "    x=\"FSI Total\",\n",
    "    y=\"Country\",\n",
    "    orientation=\"h\",\n",
    "    title=\"Fragile State Index per Country\",\n",
    "    labels={\"FSI Total\": \"FSI Total Score\", \"Country\": \"Countries\"},\n",
    ")\n"
   ]
  },
  {
   "cell_type": "code",
   "execution_count": 8,
   "id": "4cf77e5b-e03d-4c04-87e7-290ab08c6025",
   "metadata": {},
   "outputs": [],
   "source": [
    "app = dash.Dash(__name__)\n",
    "\n",
    "app.layout = html.Div([\n",
    "    html.H1(\"Green to Red Pipeline - Fragile State Index\"),\n",
    "    dcc.Graph(figure=fig),\n",
    "])"
   ]
  },
  {
   "cell_type": "code",
   "execution_count": 9,
   "id": "fd7c68f5-7e6a-4c45-8a2a-d3a5c5875acb",
   "metadata": {},
   "outputs": [
    {
     "data": {
      "text/html": [
       "\n",
       "        <iframe\n",
       "            width=\"100%\"\n",
       "            height=\"650\"\n",
       "            src=\"http://127.0.0.1:8050/\"\n",
       "            frameborder=\"0\"\n",
       "            allowfullscreen\n",
       "            \n",
       "        ></iframe>\n",
       "        "
      ],
      "text/plain": [
       "<IPython.lib.display.IFrame at 0x27e9daf73b0>"
      ]
     },
     "metadata": {},
     "output_type": "display_data"
    }
   ],
   "source": [
    "if __name__== \"__main__\":\n",
    "    app.run_server(debug=True)"
   ]
  },
  {
   "cell_type": "code",
   "execution_count": 1,
   "id": "3a532e37",
   "metadata": {},
   "outputs": [
    {
     "ename": "ModuleNotFoundError",
     "evalue": "No module named 'selenium'",
     "output_type": "error",
     "traceback": [
      "\u001b[1;31m---------------------------------------------------------------------------\u001b[0m",
      "\u001b[1;31mModuleNotFoundError\u001b[0m                       Traceback (most recent call last)",
      "Cell \u001b[1;32mIn[1], line 1\u001b[0m\n\u001b[1;32m----> 1\u001b[0m \u001b[38;5;28;01mfrom\u001b[39;00m \u001b[38;5;21;01mselenium\u001b[39;00m \u001b[38;5;28;01mimport\u001b[39;00m webdriver\n\u001b[0;32m      2\u001b[0m \u001b[38;5;28;01mfrom\u001b[39;00m \u001b[38;5;21;01mselenium\u001b[39;00m\u001b[38;5;21;01m.\u001b[39;00m\u001b[38;5;21;01mwebdriver\u001b[39;00m\u001b[38;5;21;01m.\u001b[39;00m\u001b[38;5;21;01mchrome\u001b[39;00m\u001b[38;5;21;01m.\u001b[39;00m\u001b[38;5;21;01mservice\u001b[39;00m \u001b[38;5;28;01mimport\u001b[39;00m Service\n\u001b[0;32m      3\u001b[0m \u001b[38;5;28;01mfrom\u001b[39;00m \u001b[38;5;21;01mselenium\u001b[39;00m\u001b[38;5;21;01m.\u001b[39;00m\u001b[38;5;21;01mwebdriver\u001b[39;00m\u001b[38;5;21;01m.\u001b[39;00m\u001b[38;5;21;01mcommon\u001b[39;00m\u001b[38;5;21;01m.\u001b[39;00m\u001b[38;5;21;01mby\u001b[39;00m \u001b[38;5;28;01mimport\u001b[39;00m By\n",
      "\u001b[1;31mModuleNotFoundError\u001b[0m: No module named 'selenium'"
     ]
    }
   ],
   "source": [
    "from selenium import webdriver\n",
    "from selenium.webdriver.chrome.service import Service\n",
    "from selenium.webdriver.common.by import By\n",
    "\n",
    "# Path to your ChromeDriver\n",
    "driver_path = \"path/to/chromedriver\"\n",
    "\n",
    "# Set up Selenium WebDriver\n",
    "service = Service(driver_path)\n",
    "driver = webdriver.Chrome(service=service)\n",
    "\n",
    "url = \"https://fragilestatesindex.org/excel/\"\n",
    "driver.get(url)\n",
    "\n",
    "# Wait for the page to load (adjust time if necessary)\n",
    "driver.implicitly_wait(10)\n",
    "\n",
    "# Extract links\n",
    "links = []\n",
    "for link in driver.find_elements(By.TAG_NAME, \"a\"):\n",
    "    href = link.get_attribute(\"href\")\n",
    "    if href and (\".xlsx\" in href or \".xls\" in href):\n",
    "        links.append(href)\n",
    "\n",
    "print(\"Excel Links Found:\", links)\n",
    "\n",
    "driver.quit()"
   ]
  },
  {
   "cell_type": "code",
   "execution_count": null,
   "id": "caf0b8be",
   "metadata": {},
   "outputs": [],
   "source": []
  }
 ],
 "metadata": {
  "kernelspec": {
   "display_name": "Python 3",
   "language": "python",
   "name": "python3"
  },
  "language_info": {
   "codemirror_mode": {
    "name": "ipython",
    "version": 3
   },
   "file_extension": ".py",
   "mimetype": "text/x-python",
   "name": "python",
   "nbconvert_exporter": "python",
   "pygments_lexer": "ipython3",
   "version": "3.12.2"
  }
 },
 "nbformat": 4,
 "nbformat_minor": 5
}
