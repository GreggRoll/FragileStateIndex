{
 "cells": [
  {
   "cell_type": "code",
   "execution_count": 2,
   "id": "3524aa49-b604-48af-bb07-2629138862dc",
   "metadata": {
    "tags": []
   },
   "outputs": [],
   "source": [
    "import pandas as pd\n",
    "\"\"\"\n",
    "Right now we are downloading data from \n",
    "https://fragilestatesindex.org/\n",
    "Then processing it for move up to red\n",
    "We need to automate this process for use in our new green to red pipeline(WIP)\n",
    "On a monthly basis we need to do a data pull and get any new data\n",
    "If we put it in a dash app we can use POSIT CONNECT to keep the script persisting\n",
    "\"\"\"\n",
    "df = pd.read_excel(\"Rankings.xlsx\")\n",
    "\n",
    "cols = []\n",
    "for col in df.columns:\n",
    "    if \"Unnamed\" in col:\n",
    "        cols.append(df[col].iloc[0])\n",
    "    else:\n",
    "        cols.append(col)\n",
    "        \n",
    "df.columns = cols\n",
    "df = df[1:]\n",
    "\n",
    "df = df[[\"Country\", \"Total\"]]\n",
    "df.columns = [\"Country\", \"Total\"]\n",
    "df[\"Year\"] = 2024\n"
   ]
  },
  {
   "cell_type": "code",
   "execution_count": 3,
   "id": "4893cbd0-a99f-4b09-836b-b3621fcfbef7",
   "metadata": {
    "scrolled": true,
    "tags": []
   },
   "outputs": [
    {
     "data": {
      "text/html": [
       "<div>\n",
       "<style scoped>\n",
       "    .dataframe tbody tr th:only-of-type {\n",
       "        vertical-align: middle;\n",
       "    }\n",
       "\n",
       "    .dataframe tbody tr th {\n",
       "        vertical-align: top;\n",
       "    }\n",
       "\n",
       "    .dataframe thead th {\n",
       "        text-align: right;\n",
       "    }\n",
       "</style>\n",
       "<table border=\"1\" class=\"dataframe\">\n",
       "  <thead>\n",
       "    <tr style=\"text-align: right;\">\n",
       "      <th></th>\n",
       "      <th>Country</th>\n",
       "      <th>Total</th>\n",
       "      <th>Year</th>\n",
       "    </tr>\n",
       "  </thead>\n",
       "  <tbody>\n",
       "    <tr>\n",
       "      <th>1</th>\n",
       "      <td>Somalia</td>\n",
       "      <td>111.3</td>\n",
       "      <td>2024</td>\n",
       "    </tr>\n",
       "    <tr>\n",
       "      <th>2</th>\n",
       "      <td>Sudan</td>\n",
       "      <td>109.3</td>\n",
       "      <td>2024</td>\n",
       "    </tr>\n",
       "    <tr>\n",
       "      <th>3</th>\n",
       "      <td>South Sudan</td>\n",
       "      <td>109.0</td>\n",
       "      <td>2024</td>\n",
       "    </tr>\n",
       "    <tr>\n",
       "      <th>4</th>\n",
       "      <td>Syria</td>\n",
       "      <td>108.1</td>\n",
       "      <td>2024</td>\n",
       "    </tr>\n",
       "    <tr>\n",
       "      <th>5</th>\n",
       "      <td>Congo Democratic Republic</td>\n",
       "      <td>106.7</td>\n",
       "      <td>2024</td>\n",
       "    </tr>\n",
       "    <tr>\n",
       "      <th>...</th>\n",
       "      <td>...</td>\n",
       "      <td>...</td>\n",
       "      <td>...</td>\n",
       "    </tr>\n",
       "    <tr>\n",
       "      <th>175</th>\n",
       "      <td>Denmark</td>\n",
       "      <td>15.9</td>\n",
       "      <td>2024</td>\n",
       "    </tr>\n",
       "    <tr>\n",
       "      <th>176</th>\n",
       "      <td>New Zealand</td>\n",
       "      <td>15.9</td>\n",
       "      <td>2024</td>\n",
       "    </tr>\n",
       "    <tr>\n",
       "      <th>177</th>\n",
       "      <td>Iceland</td>\n",
       "      <td>15.2</td>\n",
       "      <td>2024</td>\n",
       "    </tr>\n",
       "    <tr>\n",
       "      <th>178</th>\n",
       "      <td>Finland</td>\n",
       "      <td>14.3</td>\n",
       "      <td>2024</td>\n",
       "    </tr>\n",
       "    <tr>\n",
       "      <th>179</th>\n",
       "      <td>Norway</td>\n",
       "      <td>12.7</td>\n",
       "      <td>2024</td>\n",
       "    </tr>\n",
       "  </tbody>\n",
       "</table>\n",
       "<p>179 rows × 3 columns</p>\n",
       "</div>"
      ],
      "text/plain": [
       "                       Country  Total  Year\n",
       "1                      Somalia  111.3  2024\n",
       "2                        Sudan  109.3  2024\n",
       "3                  South Sudan  109.0  2024\n",
       "4                        Syria  108.1  2024\n",
       "5    Congo Democratic Republic  106.7  2024\n",
       "..                         ...    ...   ...\n",
       "175                    Denmark   15.9  2024\n",
       "176                New Zealand   15.9  2024\n",
       "177                    Iceland   15.2  2024\n",
       "178                    Finland   14.3  2024\n",
       "179                     Norway   12.7  2024\n",
       "\n",
       "[179 rows x 3 columns]"
      ]
     },
     "execution_count": 3,
     "metadata": {},
     "output_type": "execute_result"
    }
   ],
   "source": [
    "df"
   ]
  },
  {
   "cell_type": "code",
   "execution_count": 4,
   "id": "e86f02f9-2c58-4f06-b4a5-e6e4bdcaec3b",
   "metadata": {
    "tags": []
   },
   "outputs": [],
   "source": [
    "df.to_excel(\"FSI_output.xlsx\")"
   ]
  },
  {
   "cell_type": "code",
   "execution_count": 5,
   "id": "58e4743f-94f2-4ce0-b69b-7be0e3e1946d",
   "metadata": {},
   "outputs": [],
   "source": [
    "import dash\n",
    "from dash import Dash, dcc, html, Input, Output\n",
    "import matplotlib.pyplot as plt\n",
    "import plotly.express as px\n",
    "import requests"
   ]
  },
  {
   "cell_type": "code",
   "execution_count": 6,
   "id": "3a532e37",
   "metadata": {},
   "outputs": [
    {
     "name": "stdout",
     "output_type": "stream",
     "text": [
      "Excel Links Found: {'https://fragilestatesindex.org/wp-content/uploads/data/fsi-2017.xlsx', 'https://fragilestatesindex.org/wp-content/uploads/2021/05/fsi-2021.xlsx', 'https://fragilestatesindex.org/wp-content/uploads/data/fsi-2008.xlsx', 'https://fragilestatesindex.org/wp-content/uploads/data/fsi-2006.xlsx', 'https://fragilestatesindex.org/wp-content/uploads/2023/06/FSI-2023-DOWNLOAD.xlsx', 'https://fragilestatesindex.org/wp-content/uploads/2018/04/fsi-2018.xlsx', 'https://fragilestatesindex.org/wp-content/uploads/data/fsi-2014.xlsx', 'https://fragilestatesindex.org/wp-content/uploads/2019/04/fsi-2019.xlsx', 'https://fragilestatesindex.org/wp-content/uploads/data/fsi-2016.xlsx', 'https://fragilestatesindex.org/wp-content/uploads/data/fsi-2015.xlsx', 'https://fragilestatesindex.org/wp-content/uploads/data/fsi-2012.xlsx', 'https://fragilestatesindex.org/wp-content/uploads/data/fsi-2010.xlsx', 'https://fragilestatesindex.org/wp-content/uploads/data/fsi-2009.xlsx', 'https://fragilestatesindex.org/wp-content/uploads/data/fsi-2013.xlsx', 'https://fragilestatesindex.org/wp-content/uploads/data/fsi-2007.xlsx', 'https://fragilestatesindex.org/wp-content/uploads/data/fsi-2011.xlsx', 'https://fragilestatesindex.org/wp-content/uploads/2022/07/fsi-2022-download.xlsx', 'https://fragilestatesindex.org/wp-content/uploads/2020/05/fsi-2020.xlsx'}\n"
     ]
    }
   ],
   "source": [
    "from selenium import webdriver\n",
    "from selenium.webdriver.chrome.service import Service\n",
    "from selenium.webdriver.common.by import By\n",
    "\n",
    "# Path to your ChromeDriver\n",
    "# Set up the Selenium WebDriver\n",
    "options = webdriver.ChromeOptions()\n",
    "options.add_argument(\"--headless\")  # Optional: run in headless mode\n",
    "driver = webdriver.Chrome(options=options)\n",
    "\n",
    "url = \"https://fragilestatesindex.org/excel/\"\n",
    "driver.get(url)\n",
    "\n",
    "# Wait for the page to load (adjust time if necessary)\n",
    "driver.implicitly_wait(10)\n",
    "\n",
    "# Extract links\n",
    "links = set()\n",
    "for link in driver.find_elements(By.TAG_NAME, \"a\"):\n",
    "    href = link.get_attribute(\"href\")\n",
    "    if href and (\".xlsx\" in href or \".xls\" in href):\n",
    "        links.add(href)\n",
    "\n",
    "print(\"Excel Links Found:\", links)\n",
    "\n",
    "driver.quit()"
   ]
  },
  {
   "cell_type": "code",
   "execution_count": 7,
   "id": "caf0b8be",
   "metadata": {},
   "outputs": [
    {
     "name": "stdout",
     "output_type": "stream",
     "text": [
      "{'https://fragilestatesindex.org/wp-content/uploads/data/fsi-2017.xlsx', 'https://fragilestatesindex.org/wp-content/uploads/2021/05/fsi-2021.xlsx', 'https://fragilestatesindex.org/wp-content/uploads/data/fsi-2008.xlsx', 'https://fragilestatesindex.org/wp-content/uploads/data/fsi-2006.xlsx', 'https://fragilestatesindex.org/wp-content/uploads/2023/06/FSI-2023-DOWNLOAD.xlsx', 'https://fragilestatesindex.org/wp-content/uploads/2018/04/fsi-2018.xlsx', 'https://fragilestatesindex.org/wp-content/uploads/data/fsi-2014.xlsx', 'https://fragilestatesindex.org/wp-content/uploads/2019/04/fsi-2019.xlsx', 'https://fragilestatesindex.org/wp-content/uploads/data/fsi-2016.xlsx', 'https://fragilestatesindex.org/wp-content/uploads/data/fsi-2015.xlsx', 'https://fragilestatesindex.org/wp-content/uploads/data/fsi-2012.xlsx', 'https://fragilestatesindex.org/wp-content/uploads/data/fsi-2010.xlsx', 'https://fragilestatesindex.org/wp-content/uploads/data/fsi-2009.xlsx', 'https://fragilestatesindex.org/wp-content/uploads/data/fsi-2013.xlsx', 'https://fragilestatesindex.org/wp-content/uploads/data/fsi-2007.xlsx', 'https://fragilestatesindex.org/wp-content/uploads/data/fsi-2011.xlsx', 'https://fragilestatesindex.org/wp-content/uploads/2022/07/fsi-2022-download.xlsx', 'https://fragilestatesindex.org/wp-content/uploads/2020/05/fsi-2020.xlsx'}\n"
     ]
    }
   ],
   "source": [
    "from selenium import webdriver\n",
    "from selenium.webdriver.common.by import By\n",
    "\n",
    "# Set up the Selenium WebDriver\n",
    "options = webdriver.ChromeOptions()\n",
    "options.add_argument(\"--headless\")  # Optional: run in headless mode\n",
    "driver = webdriver.Chrome(options=options)\n",
    "\n",
    "# Access the website\n",
    "driver.get(\"https://fragilestatesindex.org/excel\")\n",
    "\n",
    "# Extract data\n",
    "links = driver.find_elements(By.XPATH, \"//a[contains(@href, 'https://fragilestatesindex.org/wp-content/uploads/')]\")\n",
    "links_set = set()\n",
    "\n",
    "for link in links:\n",
    "    links_set.add(link.get_attribute(\"href\"))\n",
    "\n",
    "print(links_set)\n",
    "driver.quit()"
   ]
  },
  {
   "cell_type": "code",
   "execution_count": 8,
   "id": "55fa386c",
   "metadata": {},
   "outputs": [
    {
     "name": "stdout",
     "output_type": "stream",
     "text": [
      "                       Country  Year       Total\n",
      "0                  South Sudan  2017  113.900000\n",
      "1                      Somalia  2017  113.400000\n",
      "2     Central African Republic  2017  112.600000\n",
      "3                        Yemen  2017  111.100000\n",
      "4                        Sudan  2017  110.600000\n",
      "...                        ...   ...         ...\n",
      "3165                   Iceland  2020   17.800000\n",
      "3166                   Denmark  2020   17.213587\n",
      "3167               Switzerland  2020   17.094086\n",
      "3168                    Norway  2020   16.191210\n",
      "3169                   Finland  2020   14.626666\n",
      "\n",
      "[3170 rows x 3 columns]\n"
     ]
    }
   ],
   "source": [
    "from io import BytesIO\n",
    "\n",
    "combined_df = pd.DataFrame()\n",
    "\n",
    "# Define headers to mimic a browser\n",
    "headers = {\n",
    "    \"User-Agent\": \"Mozilla/5.0 (Windows NT 10.0; Win64; x64) AppleWebKit/537.36 (KHTML, like Gecko) Chrome/91.0.4472.124 Safari/537.36\"\n",
    "}\n",
    "\n",
    "columns_to_keep = [\"Country\", \"Year\", \"Total\"]\n",
    "\n",
    "# Loop through each link, download the file, and read it\n",
    "for link in links_set:\n",
    "    try:\n",
    "        # Send GET request with headers\n",
    "        response = requests.get(link, headers=headers)\n",
    "        response.raise_for_status()  # Raise an error for bad status codes\n",
    "        \n",
    "        # Read the Excel file into a DataFrame\n",
    "        df = pd.read_excel(BytesIO(response.content), usecols=columns_to_keep)\n",
    "        \n",
    "        # Append the data to the combined DataFrame\n",
    "        combined_df = pd.concat([combined_df, df], ignore_index=True)\n",
    "    except Exception as e:\n",
    "        print(f\"Failed to process {link}: {e}\")\n",
    "\n",
    "combined_df['Year'] = combined_df['Year'].astype(str).str[:4].astype(int)\n",
    "output_file = \"FSI_Combined.xlsx\"\n",
    "combined_df.to_excel(output_file, index=False)\n",
    "\n",
    "# Display the combined DataFrame\n",
    "print(combined_df)"
   ]
  },
  {
   "cell_type": "code",
   "execution_count": 9,
   "id": "369852d4",
   "metadata": {},
   "outputs": [
    {
     "data": {
      "text/html": [
       "\n",
       "        <iframe\n",
       "            width=\"100%\"\n",
       "            height=\"650\"\n",
       "            src=\"http://127.0.0.1:8050/\"\n",
       "            frameborder=\"0\"\n",
       "            allowfullscreen\n",
       "            \n",
       "        ></iframe>\n",
       "        "
      ],
      "text/plain": [
       "<IPython.lib.display.IFrame at 0x1a3d00216d0>"
      ]
     },
     "metadata": {},
     "output_type": "display_data"
    }
   ],
   "source": [
    "app = dash.Dash(__name__)\n",
    "\n",
    "app.layout = html.Div([\n",
    "    html.H1(\"Line Chart by Country\"),\n",
    "    dcc.Dropdown(\n",
    "        id='country-dropdown',\n",
    "        options=[{'label': country, 'value': country} for country in combined_df['Country'].unique()],\n",
    "        value='United States',  # Default value\n",
    "        placeholder=\"Select a country\"\n",
    "    ),\n",
    "    dcc.Graph(id='line-chart')\n",
    "])\n",
    "\n",
    "# Callback to update the graph based on selected country\n",
    "@app.callback(\n",
    "    Output('line-chart', 'figure'),\n",
    "    Input('country-dropdown', 'value')\n",
    ")\n",
    "def update_chart(selected_country):\n",
    "    # Filter data by selected country\n",
    "    filtered_df = combined_df[combined_df['Country'] == selected_country]\n",
    "    # Sort data by year\n",
    "    filtered_df = filtered_df.sort_values(by='Year')\n",
    "    # Create the line chart\n",
    "    fig = px.line(filtered_df, x='Year', y='Total', title=f'Total by Year for {selected_country}')\n",
    "    return fig\n",
    "\n",
    "# Run the app\n",
    "if __name__ == '__main__':\n",
    "    app.run_server(debug=True)"
   ]
  }
 ],
 "metadata": {
  "kernelspec": {
   "display_name": "env",
   "language": "python",
   "name": "python3"
  },
  "language_info": {
   "codemirror_mode": {
    "name": "ipython",
    "version": 3
   },
   "file_extension": ".py",
   "mimetype": "text/x-python",
   "name": "python",
   "nbconvert_exporter": "python",
   "pygments_lexer": "ipython3",
   "version": "3.12.2"
  }
 },
 "nbformat": 4,
 "nbformat_minor": 5
}
